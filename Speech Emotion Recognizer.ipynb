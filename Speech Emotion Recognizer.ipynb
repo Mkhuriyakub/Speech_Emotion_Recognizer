{
 "cells": [
  {
   "cell_type": "markdown",
   "id": "c8360363",
   "metadata": {},
   "source": [
    "# Speech Emotion Recognizer"
   ]
  },
  {
   "cell_type": "markdown",
   "id": "4efd446c",
   "metadata": {},
   "source": [
    "## Importing necessary packages"
   ]
  },
  {
   "cell_type": "code",
   "execution_count": 7,
   "id": "c13780f0",
   "metadata": {
    "ExecuteTime": {
     "end_time": "2022-05-12T22:56:10.331005Z",
     "start_time": "2022-05-12T22:56:10.325629Z"
    }
   },
   "outputs": [],
   "source": [
    "import librosa\n",
    "import soundfile\n",
    "import os, glob, pickle\n",
    "import numpy as np\n",
    "from sklearn.model_selection import train_test_split\n",
    "from sklearn.neural_network import MLPClassifier\n",
    "from sklearn.metrics import accuracy_score"
   ]
  },
  {
   "cell_type": "markdown",
   "id": "5dbfe7c9",
   "metadata": {},
   "source": [
    "## Defining a function to extract vocal features\n",
    "This function will use mel spectrograms to extract the defining features of each emotion. Data can be found [here](https://drive.google.com/file/d/1wWsrN2Ep7x6lWqOXfr4rpKGYrJhWc8z7/view)"
   ]
  },
  {
   "cell_type": "code",
   "execution_count": 8,
   "id": "4e6b8d5b",
   "metadata": {
    "ExecuteTime": {
     "end_time": "2022-05-12T22:56:11.085903Z",
     "start_time": "2022-05-12T22:56:11.078620Z"
    }
   },
   "outputs": [],
   "source": [
    "def extract_feature(file_name, mfcc, chroma, mel):\n",
    "    with soundfile.SoundFile(file_name) as sound_file:\n",
    "        X = sound_file.read(dtype=\"float32\")\n",
    "        sample_rate=sound_file.samplerate\n",
    "        if chroma:\n",
    "            stft=np.abs(librosa.stft(X))\n",
    "        result=np.array([])\n",
    "        if mfcc:\n",
    "            mfccs=np.mean(librosa.feature.mfcc(y=X, sr=sample_rate, n_mfcc=40).T, axis=0)\n",
    "            result=np.hstack((result,mfccs))\n",
    "        if chroma:\n",
    "            chroma=np.mean(librosa.feature.chroma_stft(S=stft, sr=sample_rate).T, axis=0)\n",
    "        if mel:\n",
    "            mel=np.mean(librosa.feature.melspectrogram(X, sr=sample_rate).T,axis=0)\n",
    "            result=np.hstack((result, mel))\n",
    "    return result"
   ]
  },
  {
   "cell_type": "markdown",
   "id": "ad1f80cf",
   "metadata": {},
   "source": [
    "## Creating a dictionary of emotions\n",
    "We isolated 4 specific emotions to be our observed emotions"
   ]
  },
  {
   "cell_type": "code",
   "execution_count": 9,
   "id": "164b5d5d",
   "metadata": {
    "ExecuteTime": {
     "end_time": "2022-05-12T22:56:11.983724Z",
     "start_time": "2022-05-12T22:56:11.979451Z"
    }
   },
   "outputs": [],
   "source": [
    "emotions = {\n",
    "    '01':'neutral',\n",
    "    '02':'calm',\n",
    "    '03':'happy',\n",
    "    '04':'sad',\n",
    "    '05':'angry',\n",
    "    '06':'fearful',\n",
    "    '07':'disgust',\n",
    "    '08':'surprised'\n",
    "}\n",
    "\n",
    "observed_emotions=['calm', 'happy', 'fearful','disgust']"
   ]
  },
  {
   "cell_type": "markdown",
   "id": "a4c9dd9b",
   "metadata": {},
   "source": [
    "## Defining a load_data function\n",
    "This function loads in all of the .wav files and targets only our desire emotions. The feature and emotions as appended to lists and returns train_test_split of the data. "
   ]
  },
  {
   "cell_type": "code",
   "execution_count": 10,
   "id": "b3246e5a",
   "metadata": {
    "ExecuteTime": {
     "end_time": "2022-05-12T22:57:33.104623Z",
     "start_time": "2022-05-12T22:57:33.098335Z"
    }
   },
   "outputs": [],
   "source": [
    "def load_data(test_size=0.2):\n",
    "    x,y=[],[]\n",
    "    for file in glob.glob(\"./data/DataFlair/speech-emotion-recognition-ravdess-data/Actor_*/*.wav\"):\n",
    "        file_name=os.path.basename(file)\n",
    "        emotion=emotions[file_name.split(\"-\")[2]]\n",
    "        if emotion not in observed_emotions:\n",
    "            continue\n",
    "        feature=extract_feature(file, mfcc=True, chroma=True, mel=True)\n",
    "        x.append(feature)\n",
    "        y.append(emotion)\n",
    "    return train_test_split(np.array(x), y, test_size=test_size, random_state=9)"
   ]
  },
  {
   "cell_type": "code",
   "execution_count": 11,
   "id": "168cf5e1",
   "metadata": {
    "ExecuteTime": {
     "end_time": "2022-05-12T22:57:48.532194Z",
     "start_time": "2022-05-12T22:57:36.821683Z"
    }
   },
   "outputs": [],
   "source": [
    "# Running the load_data function, with 25% being separated as the test set. \n",
    "x_train, x_test, y_train, y_test, = load_data(test_size=0.25)"
   ]
  },
  {
   "cell_type": "code",
   "execution_count": 12,
   "id": "0c81026e",
   "metadata": {
    "ExecuteTime": {
     "end_time": "2022-05-12T22:57:50.414473Z",
     "start_time": "2022-05-12T22:57:50.410739Z"
    }
   },
   "outputs": [
    {
     "name": "stdout",
     "output_type": "stream",
     "text": [
      "(576, 192)\n"
     ]
    }
   ],
   "source": [
    "# Checking the shape of the train and test sets\n",
    "print((x_train.shape[0], x_test.shape[0]))"
   ]
  },
  {
   "cell_type": "code",
   "execution_count": 18,
   "id": "3bfc42ee",
   "metadata": {
    "ExecuteTime": {
     "end_time": "2022-05-16T22:49:38.166293Z",
     "start_time": "2022-05-16T22:49:38.138590Z"
    },
    "scrolled": true
   },
   "outputs": [
    {
     "name": "stdout",
     "output_type": "stream",
     "text": [
      "Features extracted: 168\n"
     ]
    }
   ],
   "source": [
    "# Seeing how many features were extracted\n",
    "print(f'Features extracted: {x_train.shape[1]}')"
   ]
  },
  {
   "cell_type": "markdown",
   "id": "ce781c34",
   "metadata": {},
   "source": [
    "## Intializing the model"
   ]
  },
  {
   "cell_type": "code",
   "execution_count": 14,
   "id": "ccbf3a8b",
   "metadata": {
    "ExecuteTime": {
     "end_time": "2022-05-12T22:57:52.751073Z",
     "start_time": "2022-05-12T22:57:52.747882Z"
    }
   },
   "outputs": [],
   "source": [
    "model = MLPClassifier(alpha=0.01, batch_size=256, epsilon=1e-08, \n",
    "                    hidden_layer_sizes=(300,),\n",
    "                    learning_rate='adaptive',\n",
    "                    max_iter=500)"
   ]
  },
  {
   "cell_type": "code",
   "execution_count": 15,
   "id": "4840b462",
   "metadata": {
    "ExecuteTime": {
     "end_time": "2022-05-12T22:57:55.671683Z",
     "start_time": "2022-05-12T22:57:53.591056Z"
    }
   },
   "outputs": [
    {
     "data": {
      "text/plain": [
       "MLPClassifier(alpha=0.01, batch_size=256, hidden_layer_sizes=(300,),\n",
       "              learning_rate='adaptive', max_iter=500)"
      ]
     },
     "execution_count": 15,
     "metadata": {},
     "output_type": "execute_result"
    }
   ],
   "source": [
    "# fitting the model on x and y train\n",
    "model.fit(x_train,y_train)"
   ]
  },
  {
   "cell_type": "code",
   "execution_count": 16,
   "id": "f8b892dc",
   "metadata": {
    "ExecuteTime": {
     "end_time": "2022-05-12T22:57:55.699493Z",
     "start_time": "2022-05-12T22:57:55.672748Z"
    }
   },
   "outputs": [],
   "source": [
    "# Using x test for prediction\n",
    "y_pred = model.predict(x_test)"
   ]
  },
  {
   "cell_type": "markdown",
   "id": "2d6fe3c8",
   "metadata": {},
   "source": [
    "## Check the accuracy score"
   ]
  },
  {
   "cell_type": "code",
   "execution_count": 17,
   "id": "766ffd0a",
   "metadata": {
    "ExecuteTime": {
     "end_time": "2022-05-12T22:57:55.703411Z",
     "start_time": "2022-05-12T22:57:55.701158Z"
    }
   },
   "outputs": [
    {
     "name": "stdout",
     "output_type": "stream",
     "text": [
      "Accuracy: 75.52%\n"
     ]
    }
   ],
   "source": [
    "accuracy = accuracy_score(y_true=y_test, y_pred=y_pred)\n",
    "\n",
    "print(\"Accuracy: {:.2f}%\".format(accuracy*100))"
   ]
  }
 ],
 "metadata": {
  "kernelspec": {
   "display_name": "Audio",
   "language": "python",
   "name": "audio"
  },
  "language_info": {
   "codemirror_mode": {
    "name": "ipython",
    "version": 3
   },
   "file_extension": ".py",
   "mimetype": "text/x-python",
   "name": "python",
   "nbconvert_exporter": "python",
   "pygments_lexer": "ipython3",
   "version": "3.9.5"
  },
  "toc": {
   "base_numbering": 1,
   "nav_menu": {},
   "number_sections": true,
   "sideBar": true,
   "skip_h1_title": false,
   "title_cell": "Table of Contents",
   "title_sidebar": "Contents",
   "toc_cell": false,
   "toc_position": {},
   "toc_section_display": true,
   "toc_window_display": true
  }
 },
 "nbformat": 4,
 "nbformat_minor": 5
}
